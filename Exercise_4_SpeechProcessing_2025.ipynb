{
 "cells": [
  {
   "cell_type": "markdown",
   "id": "5d949908-9d31-40bd-9a0b-a46fd40ac779",
   "metadata": {},
   "source": [
    "# ELEC-E5500 Speech Processing -- Autumn 2025\n",
    "## Exercise 4: Wake Word Detection.\n"
   ]
  },
  {
   "cell_type": "markdown",
   "id": "dbdc6b30-403a-4afc-8f99-9696a65e01d6",
   "metadata": {
    "tags": []
   },
   "source": [
    "## Overview:\n",
    "\n",
    "**Implement and fill in this exercise, you will implement and train your own custom wake word detector**.\n",
    "\n",
    "Submit the notebook by 23:59 on **29.09.24** (Only one person of you needs to submit this notebook.)\n",
    "\n",
    "Do this together as a group, and choose a custom wake word. Often something with at least with 3 syllables works best (as the false positives rate is greatly reduced)"
   ]
  },
  {
   "cell_type": "markdown",
   "id": "2fd72b88-c403-40b1-bf8f-73ada2e54f05",
   "metadata": {},
   "source": [
    "## Write the name of the people in the team here! TEAM MEMBERS: "
   ]
  },
  {
   "cell_type": "markdown",
   "id": "9478d108-41fa-49dc-9217-79756d7a1926",
   "metadata": {},
   "source": [
    "Since the jupyter here, consistently breaks, when running the training, it is much easier to run the wake word detection model on google colab. \n",
    "The demo we are using today, is this: https://colab.research.google.com/drive/1q1oe2zOyZp7UsB3jJiQ1IFn8z5YfjwEb?usp=sharing#scrollTo=1cbqBebHXjFD\n",
    "\n",
    "Change the target_word to whatever you want.\n"
   ]
  },
  {
   "cell_type": "markdown",
   "id": "8a8424eb-d79d-4eef-82d1-844c0ded1bfb",
   "metadata": {},
   "source": [
    "After training the wakeword detection model with the google colab (it should take a couple of hours on the free plan) \n",
    "\n",
    "1. Upload a model of yours to your jupyter folder (the tflite, and the onnx file) which will be submitted\n",
    "\n",
    "2. Write your target_word in the next cell (both, how it was supposed to sound like, and what actual string you used in the target word)\n",
    "\n",
    "3. Explain how the model is trained, what datasets are used, what model is used, and what parameters can you change?\n",
    "\n",
    "4. Start changing at least 3 things in the training, and see what effect it has on the final output: Here are some ideas (what happens when you increase the number of samples, what happens when you change the negative sample penalization or what happens when leave out some of the augmentations? (this are ideas, you can also choose other things) - write about the effects in the next cell.\n",
    "\n",
    "5. Find a new dataset, that could be used for data augmentation (for example huggingface is a good place to start)\n",
    "\n",
    "6. Write about strategies how you could improve the performance of the model (that could be finding different architecturs, losses, training data, real recordings, elaborate as concretely as you can)"
   ]
  },
  {
   "cell_type": "markdown",
   "id": "9a46cd69-1efa-46c5-9ebf-8f47b1a64027",
   "metadata": {},
   "source": [
    "Have each member of your group record saying the wake word you chose, and upload it to jupyter.\n",
    "\n",
    "Then run the codecell below to see what your model would predict.\n",
    "\n",
    "7. How does the model perform with real life recordings?\n",
    "8. Can you find a false positive sample, that consistently activates the wake word, without actually being the wake word? - Mention what words you tried and why."
   ]
  },
  {
   "cell_type": "code",
   "execution_count": null,
   "id": "d63d9f2e-4cbb-413a-927a-5566e7aac8e4",
   "metadata": {
    "tags": []
   },
   "outputs": [],
   "source": [
    "# First we need to install openwakeword\n",
    "!pip install openwakeword"
   ]
  },
  {
   "cell_type": "code",
   "execution_count": null,
   "id": "8d60cfe0-5740-4614-a378-bb5c7829ce47",
   "metadata": {
    "tags": []
   },
   "outputs": [],
   "source": [
    "# Get predictions for individual WAV files (16-bit 16khz PCM)\n",
    "import openwakeword\n",
    "from openwakeword.model import Model\n",
    "\n",
    "# This might be helpful and downloads some pretrained mdoels: openwakeword.utils.download_models()\n",
    "# The file can either be the tflite or onnx file (more information can be found here https://github.com/dscripka/openWakeWord/blob/main/openwakeword/model.py. \n",
    "\n",
    "model = Model(wakeword_models=[\"path/to/model.tflite\"])\n",
    "model.predict_clip(\"path/to/wavfile\")\n",
    "\n",
    "# The prediction will be on a frame by frame basis (80ms at a time for example), you can either use the average of the\n",
    "#predicitions or see if there are certains frames activated."
   ]
  },
  {
   "cell_type": "markdown",
   "id": "fbb8549f-de66-4e27-a7a3-74c55c82468a",
   "metadata": {
    "deletable": false,
    "nbgrader": {
     "cell_type": "markdown",
     "checksum": "e950c457375d5f13a596a4b90d9bba19",
     "grade": true,
     "grade_id": "cell-b55f48256622e7fb",
     "locked": false,
     "points": 6,
     "schema_version": 3,
     "solution": true,
     "task": false
    },
    "tags": []
   },
   "source": [
    "YOUR ANSWER HERE"
   ]
  }
 ],
 "metadata": {
  "kernelspec": {
   "display_name": "Python 3",
   "language": "python",
   "name": "python3"
  },
  "language_info": {
   "codemirror_mode": {
    "name": "ipython",
    "version": 3
   },
   "file_extension": ".py",
   "mimetype": "text/x-python",
   "name": "python",
   "nbconvert_exporter": "python",
   "pygments_lexer": "ipython3",
   "version": "3.10.12"
  }
 },
 "nbformat": 4,
 "nbformat_minor": 5
}
