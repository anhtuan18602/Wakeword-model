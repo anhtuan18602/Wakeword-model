{
 "cells": [
  {
   "cell_type": "code",
   "execution_count": 2,
   "id": "7fc38d47-ced8-4858-8995-4effa9c346ea",
   "metadata": {},
   "outputs": [],
   "source": [
    "# First we need to install openwakeword\n",
    "#!pip install openwakeword"
   ]
  },
  {
   "cell_type": "code",
   "execution_count": null,
   "id": "8bb551a8-a608-4a13-a8f5-e1334bcf581e",
   "metadata": {},
   "outputs": [],
   "source": [
    "import openwakeword\n",
    "from openwakeword.model import Model\n",
    "\n",
    "# This is added to get openwakeword spectrogram model for prediction\n",
    "from openwakeword import utils\n",
    "utils.download_models()\n",
    "\n",
    "import os\n",
    "import numpy as np"
   ]
  },
  {
   "cell_type": "code",
   "execution_count": null,
   "id": "15c3f537-52b2-45a2-9263-0f41f13dfae0",
   "metadata": {},
   "outputs": [],
   "source": [
    "# Get clips' path\n",
    "folder_path = \"wakeword_recordings\"\n",
    "clips = os.listdir(folder_path)\n",
    "\n",
    "false_folder_path = \"false_wakeword_recordings\"\n",
    "false_clips = os.listdir(false_folder_path)"
   ]
  },
  {
   "cell_type": "code",
   "execution_count": null,
   "id": "96a6e2f0-7dd6-44b5-a92c-3cc764fff9e6",
   "metadata": {},
   "outputs": [],
   "source": [
    "# Real recording evaluation\n",
    "model = Model(wakeword_models=[\"my_custom_model/activate_assistant.tflite\"])\n",
    "means = []\n",
    "maxes = []\n",
    "true_count = 0\n",
    "false_count = 0\n",
    "for clip in clips:\n",
    "    #print(clip)\n",
    "    preds = model.predict_clip(f\"{folder_path}/{clip}\")\n",
    "    y = [d['activate_assistant'] for d in preds]\n",
    "    y = np.array(y)\n",
    "    mean = np.mean(y)\n",
    "    maxx = np.max(y)\n",
    "    means.append(mean)\n",
    "    maxes.append(maxx)\n",
    "    if maxx > 0.5:\n",
    "        true_count += 1\n",
    "    else:\n",
    "        false_count += 1\n",
    "    \n",
    "    #print(\"Mean frame probability:\",mean)\n",
    "    #print(\"Max frame probability:\",maxx)\n",
    "print(\"Average mean frame probability:\",np.mean(means))\n",
    "print(\"Average max frame probability:\",np.mean(maxes))\n",
    "print(\"Number of recordings:\",true_count+false_count)\n",
    "print(\"true positive rate:\", true_count/(true_count+false_count))"
   ]
  },
  {
   "cell_type": "code",
   "execution_count": null,
   "id": "17183507-fbc8-4e66-9c25-d8e6511d8197",
   "metadata": {},
   "outputs": [],
   "source": [
    "# False recording evaluation\n",
    "means = []\n",
    "maxes = []\n",
    "true_count = 0\n",
    "false_count = 0\n",
    "for clip in false_clips:\n",
    "    print(clip)\n",
    "    preds = model.predict_clip(f\"{false_folder_path}/{clip}\")\n",
    "    y = [d['activate_assistant'] for d in preds]\n",
    "    y = np.array(y)\n",
    "    mean = np.mean(y)\n",
    "    maxx = np.max(y)\n",
    "    means.append(mean)\n",
    "    maxes.append(maxx)\n",
    "    if maxx > 0.5:\n",
    "        true_count += 1\n",
    "    else:\n",
    "        false_count += 1\n",
    "    print(\"Mean frame probability:\",np.mean(y))\n",
    "    print(\"Max frame probability:\",np.max(y))\n",
    "print(\"Average mean frame probability:\",np.mean(means))\n",
    "print(\"Average max frame probability:\",np.mean(maxes))\n",
    "print(\"Number of recordings:\",true_count+false_count)\n",
    "print(\"true negative rate:\", false_count/(true_count+false_count)) "
   ]
  }
 ],
 "metadata": {
  "kernelspec": {
   "display_name": "Python 3 (ipykernel)",
   "language": "python",
   "name": "python3"
  },
  "language_info": {
   "codemirror_mode": {
    "name": "ipython",
    "version": 3
   },
   "file_extension": ".py",
   "mimetype": "text/x-python",
   "name": "python",
   "nbconvert_exporter": "python",
   "pygments_lexer": "ipython3",
   "version": "3.11.4"
  }
 },
 "nbformat": 4,
 "nbformat_minor": 5
}
